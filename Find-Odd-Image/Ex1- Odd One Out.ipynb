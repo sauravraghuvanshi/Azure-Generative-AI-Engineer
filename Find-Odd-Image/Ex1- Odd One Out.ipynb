{
 "cells": [
  {
   "cell_type": "code",
   "execution_count": null,
   "metadata": {},
   "outputs": [],
   "source": [
    "# Important: Don't forget to update this\n",
    "\n",
    "AZURE_OPENAI_API_KEY = \"*********\"\n",
    "AZURE_OPENAI_ENDPOINT = \"https://******.openai.azure.com/\"\n",
    "\n",
    "GPT_DEPLOYMENT = \"gpt-4o\"\n",
    "GPT_VERSION = \"2024-08-01-preview\"\n",
    "DALLE_DEPLOYMENT = \"dall-e-3\"\n",
    "DALLE_VERSION = \"2024-02-01\""
   ]
  },
  {
   "cell_type": "markdown",
   "metadata": {},
   "source": [
    "## Odd One Out"
   ]
  },
  {
   "cell_type": "code",
   "execution_count": 17,
   "metadata": {},
   "outputs": [],
   "source": [
    "import utils\n",
    "from utils import create_openai_client, describe_local_image, describe_online_image"
   ]
  },
  {
   "cell_type": "code",
   "execution_count": 18,
   "metadata": {},
   "outputs": [],
   "source": [
    "gpt4v = create_openai_client(GPT_VERSION, AZURE_OPENAI_API_KEY, AZURE_OPENAI_ENDPOINT)"
   ]
  },
  {
   "cell_type": "code",
   "execution_count": 19,
   "metadata": {},
   "outputs": [],
   "source": [
    "prompt = \"You are an advanced AI model trained to analyze visual patterns, details, and context. I will provide you with a set of images. Your task is to: Identify the odd image out from the set of images. Explain clearly and logically why it is different compared to the others. Base your reasoning on factors such as shape, color, texture, context, object type, background, or any other distinguishing features that make it unique. If the distinction isn’t obvious, analyze and suggest the most plausible reason for the odd image. Make sure your explanation is concise yet detailed enough to justify your choice.\""
   ]
  },
  {
   "cell_type": "code",
   "execution_count": 20,
   "metadata": {},
   "outputs": [],
   "source": [
    "image_url = \"https://cdn.pixabay.com/photo/2017/08/13/12/59/fruit-2637058_1280.jpg\""
   ]
  },
  {
   "cell_type": "code",
   "execution_count": 21,
   "metadata": {},
   "outputs": [],
   "source": [
    "response = describe_online_image(\n",
    "    gpt4v, image_url, GPT_DEPLOYMENT, prompt)"
   ]
  },
  {
   "cell_type": "code",
   "execution_count": 22,
   "metadata": {},
   "outputs": [
    {
     "data": {
      "text/plain": [
       "'The odd image out is the **red apple** on the right.\\n\\n### Explanation:\\n1. **Object Type**: The first three objects are all pears, which belong to the same fruit category. The fourth object is an apple, which is a different type of fruit altogether.\\n2. **Color**: The pears are predominantly green, whereas the apple is distinctly red, making it visually and contextually different.\\n3. **Shape**: The pears have a similar teardrop shape, while the apple has a rounder, more spherical shape.\\n4. **Texture**: The pears exhibit a speckled green texture, whereas the apple has a smoother and shinier red surface.\\n\\nThe apple stands out both visually and contextually due to its unique characteristics compared to the uniformly green pears.'"
      ]
     },
     "execution_count": 22,
     "metadata": {},
     "output_type": "execute_result"
    }
   ],
   "source": [
    "response"
   ]
  },
  {
   "cell_type": "code",
   "execution_count": null,
   "metadata": {},
   "outputs": [],
   "source": []
  },
  {
   "cell_type": "code",
   "execution_count": null,
   "metadata": {},
   "outputs": [],
   "source": []
  }
 ],
 "metadata": {
  "kernelspec": {
   "display_name": "base",
   "language": "python",
   "name": "python3"
  },
  "language_info": {
   "codemirror_mode": {
    "name": "ipython",
    "version": 3
   },
   "file_extension": ".py",
   "mimetype": "text/x-python",
   "name": "python",
   "nbconvert_exporter": "python",
   "pygments_lexer": "ipython3",
   "version": "3.12.4"
  }
 },
 "nbformat": 4,
 "nbformat_minor": 2
}
